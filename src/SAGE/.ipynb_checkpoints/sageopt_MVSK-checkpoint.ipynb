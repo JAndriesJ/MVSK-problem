{
 "cells": [
  {
   "cell_type": "code",
   "execution_count": 17,
   "id": "3696733a",
   "metadata": {},
   "outputs": [],
   "source": [
    "import pandas as pd\n",
    "import numpy as np"
   ]
  },
  {
   "cell_type": "code",
   "execution_count": 9,
   "id": "a733520d",
   "metadata": {},
   "outputs": [],
   "source": [
    "load_dir = \"C:\\\\Users\\\\jandr\\\\code_projects\\\\MVSK\\\\assets\\\\2022-01-10T09-46-17.465\\\\\""
   ]
  },
  {
   "cell_type": "code",
   "execution_count": 43,
   "id": "ebcbcb06",
   "metadata": {},
   "outputs": [],
   "source": [
    "df = pd.read_csv(load_dir+\"f₁ₘₐₓ_f₂ₘᵢₙ.csv\", header=None)[0]\n",
    "f_1_max = df[0]\n",
    "f_2_min = df[1]"
   ]
  },
  {
   "cell_type": "code",
   "execution_count": 175,
   "id": "fc6e9e71",
   "metadata": {},
   "outputs": [],
   "source": [
    "# Import data\n",
    "means_vec = np.array(pd.read_csv(load_dir+\"means_vector.csv\", header=None))[0]\n",
    "cov_mat   = np.array(pd.read_csv(load_dir+\"covariance_matrix.csv\", header=None))\n",
    "skew_mat  = np.array(pd.read_csv(load_dir+\"skewness_matrix.csv\", header=None))\n",
    "kur_mat   = np.array(pd.read_csv(load_dir+\"kurtosis_matrix.csv\", header=None))               "
   ]
  },
  {
   "cell_type": "code",
   "execution_count": 131,
   "id": "568fa0c2",
   "metadata": {},
   "outputs": [],
   "source": [
    "n = means_vec.shape[0]\n",
    "lam = np.ones(4)*0.25"
   ]
  },
  {
   "cell_type": "code",
   "execution_count": 52,
   "id": "d40176d5",
   "metadata": {},
   "outputs": [],
   "source": [
    "f_3_hat_estimates = pd.read_csv(load_dir+\"f₃ₘₐₓ_nl_df.csv\", header=\"infer\")\n",
    "f_4_hat_estimates = pd.read_csv(load_dir+\"f₄ₘᵢₙ_nl_df.csv\", header=\"infer\")"
   ]
  },
  {
   "cell_type": "code",
   "execution_count": 68,
   "id": "c93e07e3",
   "metadata": {},
   "outputs": [],
   "source": [
    "f_3_hat = f_3_hat_estimates['obj_val'][5]\n",
    "f_4_hat = f_4_hat_estimates['obj_val'][5]"
   ]
  },
  {
   "cell_type": "code",
   "execution_count": 130,
   "id": "aaafacb1",
   "metadata": {},
   "outputs": [
    {
     "data": {
      "text/plain": [
       "6"
      ]
     },
     "execution_count": 130,
     "metadata": {},
     "output_type": "execute_result"
    }
   ],
   "source": [
    "import sageopt as so"
   ]
  },
  {
   "cell_type": "code",
   "execution_count": 73,
   "id": "4ea60c6d",
   "metadata": {},
   "outputs": [],
   "source": [
    "z = so.standard_sig_monomials(n+4)\n",
    "y = z[:n]\n",
    "x = z[n:]"
   ]
  },
  {
   "cell_type": "code",
   "execution_count": 177,
   "id": "2a459f00",
   "metadata": {},
   "outputs": [
    {
     "data": {
      "text/plain": [
       "<sageopt.symbolic.signomials.Signomial at 0x19cf649f370>"
      ]
     },
     "execution_count": 177,
     "metadata": {},
     "output_type": "execute_result"
    }
   ],
   "source": []
  },
  {
   "cell_type": "code",
   "execution_count": 137,
   "id": "088fff26",
   "metadata": {},
   "outputs": [
    {
     "data": {
      "text/plain": [
       "matrix([[<sageopt.symbolic.signomials.Signomial object at 0x0000019CF64392B0>]],\n",
       "       dtype=object)"
      ]
     },
     "execution_count": 137,
     "metadata": {},
     "output_type": "execute_result"
    }
   ],
   "source": [
    "(1 - np.transpose(y) * (skew_mat/f_3_hat) * np.reshape(np.kron(y,y),(n**2,1)) )"
   ]
  },
  {
   "cell_type": "code",
   "execution_count": 178,
   "id": "1959fb8f",
   "metadata": {},
   "outputs": [
    {
     "ename": "ValueError",
     "evalue": "operands could not be broadcast together with shapes (6,) (6,36) ",
     "output_type": "error",
     "traceback": [
      "\u001b[1;31m---------------------------------------------------------------------------\u001b[0m",
      "\u001b[1;31mValueError\u001b[0m                                Traceback (most recent call last)",
      "\u001b[1;32m~\\AppData\\Local\\Temp/ipykernel_10532/542569352.py\u001b[0m in \u001b[0;36m<module>\u001b[1;34m\u001b[0m\n\u001b[1;32m----> 1\u001b[1;33m \u001b[0mnp\u001b[0m\u001b[1;33m.\u001b[0m\u001b[0mtranspose\u001b[0m\u001b[1;33m(\u001b[0m\u001b[0my\u001b[0m\u001b[1;33m)\u001b[0m \u001b[1;33m*\u001b[0m \u001b[1;33m(\u001b[0m\u001b[0mskew_mat\u001b[0m\u001b[1;33m/\u001b[0m\u001b[0mf_3_hat\u001b[0m\u001b[1;33m)\u001b[0m \u001b[1;33m*\u001b[0m \u001b[0mnp\u001b[0m\u001b[1;33m.\u001b[0m\u001b[0mreshape\u001b[0m\u001b[1;33m(\u001b[0m\u001b[0mnp\u001b[0m\u001b[1;33m.\u001b[0m\u001b[0mkron\u001b[0m\u001b[1;33m(\u001b[0m\u001b[0my\u001b[0m\u001b[1;33m,\u001b[0m\u001b[0my\u001b[0m\u001b[1;33m)\u001b[0m\u001b[1;33m,\u001b[0m\u001b[1;33m(\u001b[0m\u001b[0mn\u001b[0m\u001b[1;33m**\u001b[0m\u001b[1;36m2\u001b[0m\u001b[1;33m,\u001b[0m\u001b[1;36m1\u001b[0m\u001b[1;33m)\u001b[0m\u001b[1;33m)\u001b[0m\u001b[1;33m\u001b[0m\u001b[1;33m\u001b[0m\u001b[0m\n\u001b[0m",
      "\u001b[1;31mValueError\u001b[0m: operands could not be broadcast together with shapes (6,) (6,36) "
     ]
    }
   ],
   "source": [
    "np.transpose(y) * (skew_mat/f_3_hat) * np.reshape(np.kron(y,y),(n**2,1))"
   ]
  },
  {
   "cell_type": "code",
   "execution_count": 190,
   "id": "7617ef17",
   "metadata": {},
   "outputs": [
    {
     "data": {
      "text/plain": [
       "<sageopt.symbolic.signomials.Signomial at 0x19cf6504c70>"
      ]
     },
     "execution_count": 190,
     "metadata": {},
     "output_type": "execute_result"
    }
   ],
   "source": [
    "yyT_skew_yy"
   ]
  },
  {
   "cell_type": "code",
   "execution_count": 187,
   "id": "8d3e9465",
   "metadata": {},
   "outputs": [],
   "source": [
    "import sageopt as so\n",
    "z = so.standard_sig_monomials(n+4)\n",
    "y = z[:n]\n",
    "x = z[n:]\n",
    "f = x[0]**lam[0] + x[1]**lam[1] + x[2]**lam[2] + x[3]**lam[3]\n",
    "\n",
    "mu_y        =  np.dot(means_vec, y) \n",
    "yT_cov_y    =  np.dot(np.dot(np.transpose(y), cov_mat), np.reshape(y,(n,1)))[0] \n",
    "yT_skew_yy  =  np.dot(np.dot(y, skew_mat), np.reshape(np.kron(y,y),(n**2,1)))[0] \n",
    "yyT_skew_yy =  np.dot(np.dot(np.transpose(np.kron(y,y)), kur_mat), np.reshape(np.kron(y,y),(n**2,1)))[0] \n"
   ]
  },
  {
   "cell_type": "code",
   "execution_count": 192,
   "id": "c31bd81b",
   "metadata": {},
   "outputs": [],
   "source": [
    "eqs = [ sum(y) - 1, \n",
    "        x[0] - (1 - (mu_y / f_1_max) ),\n",
    "        x[1] - ((yT_cov_y / f_2_min) - 1),\n",
    "        x[2] - (1 - (yT_skew_yy / f_3_hat)),\n",
    "        x[3] - ((yyT_skew_yy / f_4_hat) - 1),\n",
    "        ]\n",
    "gts = [f_3_hat - yT_skew_yy,\n",
    "       yyT_skew_yy - f_4_hat \n",
    "       ]\n",
    "bounds = []"
   ]
  },
  {
   "cell_type": "code",
   "execution_count": 193,
   "id": "373d515e",
   "metadata": {},
   "outputs": [],
   "source": [
    "X = so.infer_domain(f, bounds, [])\n",
    "prob = so.sig_constrained_relaxation(f, gts, eqs, X)\n",
    "prob.solve(verbose=False)"
   ]
  },
  {
   "cell_type": "code",
   "execution_count": 194,
   "id": "d4efd876",
   "metadata": {},
   "outputs": [],
   "source": [
    "print(prob.value)"
   ]
  },
  {
   "cell_type": "code",
   "execution_count": null,
   "id": "277b575e",
   "metadata": {},
   "outputs": [],
   "source": [
    "prob_rel = so.sig_constrained_relaxation(f, gts, eqs, X, ell=1)"
   ]
  },
  {
   "cell_type": "code",
   "execution_count": null,
   "id": "17e47db9",
   "metadata": {},
   "outputs": [],
   "source": [
    "prob_rel.solve(verbose=True)"
   ]
  },
  {
   "cell_type": "code",
   "execution_count": null,
   "id": "a6eafec4",
   "metadata": {},
   "outputs": [],
   "source": []
  },
  {
   "cell_type": "code",
   "execution_count": null,
   "id": "b7aad2c2",
   "metadata": {},
   "outputs": [],
   "source": []
  }
 ],
 "metadata": {
  "kernelspec": {
   "display_name": "Python 3 (ipykernel)",
   "language": "python",
   "name": "python3"
  },
  "language_info": {
   "codemirror_mode": {
    "name": "ipython",
    "version": 3
   },
   "file_extension": ".py",
   "mimetype": "text/x-python",
   "name": "python",
   "nbconvert_exporter": "python",
   "pygments_lexer": "ipython3",
   "version": "3.8.12"
  }
 },
 "nbformat": 4,
 "nbformat_minor": 5
}
