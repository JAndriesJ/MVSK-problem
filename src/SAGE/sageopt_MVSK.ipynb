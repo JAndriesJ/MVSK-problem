{
 "cells": [
  {
   "cell_type": "code",
   "execution_count": 1,
   "id": "3696733a",
   "metadata": {},
   "outputs": [],
   "source": [
    "import pandas as pd\n",
    "import numpy as np"
   ]
  },
  {
   "cell_type": "code",
   "execution_count": 2,
   "id": "a733520d",
   "metadata": {},
   "outputs": [],
   "source": [
    "load_dir = \"C:\\\\Users\\\\jandr\\\\code_projects\\\\MVSK\\\\assets\\\\2022-01-12T18-13-20.768\\\\\""
   ]
  },
  {
   "cell_type": "code",
   "execution_count": 5,
   "id": "ebcbcb06",
   "metadata": {},
   "outputs": [],
   "source": [
    "df = pd.read_csv(load_dir+\"parameters.csv\", header=None, delimiter = '|')"
   ]
  },
  {
   "cell_type": "code",
   "execution_count": 6,
   "id": "d4a463fe",
   "metadata": {},
   "outputs": [],
   "source": [
    "f_1_max = float(df[0][1])\n",
    "f_2_min = float(df[1][1])"
   ]
  },
  {
   "cell_type": "code",
   "execution_count": 9,
   "id": "fc6e9e71",
   "metadata": {},
   "outputs": [],
   "source": [
    "# Import data\n",
    "means_vec = np.array(pd.read_csv(load_dir+\"means_vector.csv\", header=None,delimiter = '|'))[0]\n",
    "cov_mat   = np.array(pd.read_csv(load_dir+\"covariance_matrix.csv\", header=None,delimiter = '|'))\n",
    "skew_mat  = np.array(pd.read_csv(load_dir+\"skewness_matrix.csv\", header=None,delimiter = '|'))\n",
    "kur_mat   = np.array(pd.read_csv(load_dir+\"kurtosis_matrix.csv\", header=None,delimiter = '|'))               "
   ]
  },
  {
   "cell_type": "code",
   "execution_count": 10,
   "id": "568fa0c2",
   "metadata": {},
   "outputs": [],
   "source": [
    "n = means_vec.shape[0]\n",
    "lam = np.ones(4)*0.25"
   ]
  },
  {
   "cell_type": "code",
   "execution_count": 11,
   "id": "d40176d5",
   "metadata": {},
   "outputs": [],
   "source": [
    "f_3_hat_estimates = pd.read_csv(load_dir+\"f₃ₘₐₓ_nl_df.csv\", header=\"infer\",delimiter = '|')\n",
    "f_4_hat_estimates = pd.read_csv(load_dir+\"f₄ₘᵢₙ_nl_df.csv\", header=\"infer\",delimiter = '|')"
   ]
  },
  {
   "cell_type": "code",
   "execution_count": 12,
   "id": "c93e07e3",
   "metadata": {},
   "outputs": [],
   "source": [
    "f_3_hat = f_3_hat_estimates['obj_val'][5]\n",
    "f_4_hat = f_4_hat_estimates['obj_val'][5]"
   ]
  },
  {
   "cell_type": "code",
   "execution_count": 14,
   "id": "8d3e9465",
   "metadata": {},
   "outputs": [],
   "source": [
    "import sageopt as so\n",
    "z = so.standard_sig_monomials(n+4)\n",
    "y = z[:n]\n",
    "x = z[n:]\n",
    "f = x[0]**lam[0] + x[1]**lam[1] + x[2]**lam[2] + x[3]**lam[3]\n",
    "mu_y        =  np.dot(means_vec, y) \n",
    "yT_cov_y    =  np.dot(np.dot(np.transpose(y), cov_mat), np.reshape(y,(n,1)))[0] \n",
    "yT_skew_yy  =  np.dot(np.dot(y, skew_mat), np.reshape(np.kron(y,y),(n**2,1)))[0] \n",
    "yyT_skew_yy =  np.dot(np.dot(np.transpose(np.kron(y,y)), kur_mat), np.reshape(np.kron(y,y),(n**2,1)))[0] "
   ]
  },
  {
   "cell_type": "code",
   "execution_count": 15,
   "id": "c31bd81b",
   "metadata": {},
   "outputs": [],
   "source": [
    "eqs = [ sum(y) - 1]\n",
    "gts = [x[0] - (1 - (mu_y / f_1_max) ),\n",
    "       x[1] - ((yT_cov_y / f_2_min) - 1),\n",
    "        x[2] - (1 - (yT_skew_yy / f_3_hat)),\n",
    "        x[3] - ((yyT_skew_yy / f_4_hat) - 1),\n",
    "        f_3_hat - yT_skew_yy,\n",
    "        yyT_skew_yy - f_4_hat \n",
    "       ]\n",
    "bounds = []"
   ]
  },
  {
   "cell_type": "code",
   "execution_count": 16,
   "id": "373d515e",
   "metadata": {},
   "outputs": [
    {
     "name": "stdout",
     "output_type": "stream",
     "text": [
      "\n",
      "\n",
      "Problem\n",
      "  Name                   :                 \n",
      "  Objective sense        : max             \n",
      "  Type                   : CONIC (conic optimization problem)\n",
      "  Constraints            : 2358            \n",
      "  Cones                  : 31766           \n",
      "  Scalar variables       : 95524           \n",
      "  Matrix variables       : 0               \n",
      "  Integer variables      : 0               \n",
      "\n",
      "Optimizer started.\n",
      "Presolve started.\n",
      "Linear dependency checker started.\n",
      "Linear dependency checker terminated.\n",
      "Eliminator started.\n",
      "Freed constraints in eliminator : 0\n",
      "Eliminator terminated.\n",
      "Eliminator - tries                  : 1                 time                   : 0.00            \n",
      "Lin. dep.  - tries                  : 1                 time                   : 0.02            \n",
      "Lin. dep.  - number                 : 0               \n",
      "Presolve terminated. Time: 0.05    \n",
      "Problem\n",
      "  Name                   :                 \n",
      "  Objective sense        : max             \n",
      "  Type                   : CONIC (conic optimization problem)\n",
      "  Constraints            : 2358            \n",
      "  Cones                  : 31766           \n",
      "  Scalar variables       : 95524           \n",
      "  Matrix variables       : 0               \n",
      "  Integer variables      : 0               \n",
      "\n",
      "Optimizer  - threads                : 8               \n",
      "Optimizer  - solved problem         : the primal      \n",
      "Optimizer  - Constraints            : 1485\n",
      "Optimizer  - Cones                  : 31767\n",
      "Optimizer  - Scalar variables       : 95523             conic                  : 95300           \n",
      "Optimizer  - Semi-definite variables: 0                 scalarized             : 0               \n",
      "Factor     - setup time             : 0.08              dense det. time        : 0.00            \n",
      "Factor     - ML order time          : 0.00              GP order time          : 0.00            \n",
      "Factor     - nonzeros before factor : 1.22e+05          after factor           : 1.85e+05        \n",
      "Factor     - dense dim.             : 0                 flops                  : 2.99e+07        \n",
      "ITE PFEAS    DFEAS    GFEAS    PRSTATUS   POBJ              DOBJ              MU       TIME  \n",
      "0   2.3e+02  1.3e+00  2.8e+02  0.00e+00   -2.807958604e+02  0.000000000e+00   1.0e+00  0.20  \n",
      "1   2.3e+02  1.3e+00  2.7e+02  2.20e-01   -2.725084060e+02  1.011090194e+00   9.9e-01  0.28  \n",
      "2   2.1e+02  1.2e+00  2.2e+02  1.39e-01   -2.359232523e+02  3.655602473e+00   9.1e-01  0.34  \n",
      "3   1.9e+02  1.1e+00  2.0e+02  3.19e-01   -2.172121184e+02  2.964369260e+00   8.4e-01  0.38  \n",
      "4   1.8e+02  1.0e+00  1.8e+02  5.69e-01   -2.030128496e+02  2.047436014e+00   8.0e-01  0.42  \n",
      "5   1.7e+02  9.7e-01  1.5e+02  6.45e-01   -1.814919734e+02  5.025517157e+00   7.5e-01  0.47  \n",
      "6   1.6e+02  8.9e-01  1.2e+02  9.49e-01   -1.515512366e+02  6.073375006e+00   6.9e-01  0.52  \n",
      "7   1.3e+02  7.6e-01  9.0e+01  1.07e+00   -1.135547552e+02  1.098919929e+01   5.9e-01  0.56  \n",
      "8   1.2e+02  6.7e-01  6.1e+01  1.58e+00   -8.024680339e+01  9.660292887e+00   5.2e-01  0.59  \n",
      "9   9.0e+01  5.1e-01  3.8e+01  1.54e+00   -4.916008902e+01  1.135696019e+01   4.0e-01  0.64  \n",
      "10  5.9e+01  3.3e-01  1.7e+01  1.54e+00   -2.175390961e+01  1.130656668e+01   2.6e-01  0.69  \n",
      "11  5.4e+01  3.1e-01  1.6e+01  7.96e-01   -2.057145864e+01  1.203437996e+01   2.4e-01  0.72  \n",
      "12  3.4e+01  1.9e-01  8.1e+00  1.04e+00   -9.260230904e+00  1.110959262e+01   1.5e-01  0.77  \n",
      "13  2.3e+01  1.3e-01  3.5e+00  1.76e+00   -2.237869641e+00  8.147290756e+00   1.0e-01  0.81  \n",
      "14  1.4e+01  7.8e-02  1.5e+00  1.66e+00   7.544510508e-01   5.865141788e+00   6.0e-02  0.84  \n",
      "15  1.1e+01  6.0e-02  9.5e-01  1.43e+00   1.005807517e+00   4.662657447e+00   4.6e-02  0.89  \n",
      "16  7.5e+00  4.2e-02  5.4e-01  1.41e+00   9.515414596e-01   3.336771781e+00   3.3e-02  0.94  \n",
      "17  3.1e+00  1.8e-02  1.3e-01  1.34e+00   6.716197872e-01   1.552434312e+00   1.4e-02  0.98  \n",
      "18  1.8e+00  1.0e-02  5.5e-02  1.25e+00   4.463507090e-01   9.326037325e-01   8.1e-03  1.02  \n",
      "19  8.9e-01  5.0e-03  1.8e-02  1.20e+00   2.304995670e-01   4.539189590e-01   3.9e-03  1.06  \n",
      "20  3.5e-01  2.0e-03  4.5e-03  1.07e+00   6.318417945e-02   1.539961723e-01   1.5e-03  1.11  \n",
      "21  2.4e-01  1.4e-03  2.5e-03  1.07e+00   4.664932017e-02   1.079926873e-01   1.1e-03  1.17  \n",
      "22  8.1e-02  4.6e-04  4.7e-04  1.07e+00   1.993330459e-02   4.048192654e-02   3.6e-04  1.24  \n",
      "23  3.6e-02  2.0e-04  1.5e-04  9.78e-01   4.892147085e-03   1.456763222e-02   1.6e-04  1.30  \n",
      "24  1.6e-02  9.1e-05  4.2e-05  1.04e+00   3.289617668e-03   7.554850378e-03   7.1e-05  1.36  \n",
      "25  5.2e-03  3.0e-05  7.5e-06  1.06e+00   1.360014966e-03   2.727938698e-03   2.3e-05  1.39  \n",
      "26  2.9e-03  1.6e-05  3.3e-06  9.41e-01   3.535049997e-04   1.164923670e-03   1.3e-05  1.44  \n",
      "27  8.6e-04  4.9e-06  5.2e-07  1.02e+00   2.146625147e-04   4.561845441e-04   3.8e-06  1.49  \n",
      "28  4.0e-04  2.2e-06  1.6e-07  1.01e+00   8.217045727e-05   1.956158614e-04   1.7e-06  1.52  \n",
      "29  1.4e-04  7.8e-07  3.3e-08  1.04e+00   3.394781827e-05   7.335790832e-05   6.1e-07  1.56  \n",
      "30  5.4e-05  3.1e-07  8.5e-09  9.97e-01   8.760328035e-06   2.477274756e-05   2.4e-07  1.61  \n",
      "31  2.0e-05  1.1e-07  1.9e-09  1.04e+00   4.756369454e-06   1.056193414e-05   8.7e-08  1.64  \n",
      "32  7.6e-06  4.3e-08  4.5e-10  1.01e+00   1.220189258e-06   3.487015559e-06   3.3e-08  1.69  \n",
      "33  3.1e-06  1.8e-08  1.2e-10  1.04e+00   6.274779517e-07   1.549260042e-06   1.4e-08  1.74  \n",
      "34  1.3e-06  7.5e-09  3.3e-11  1.02e+00   2.202388045e-07   6.210925769e-07   5.8e-09  1.78  \n",
      "35  4.9e-07  2.8e-09  7.3e-12  1.05e+00   9.807979556e-08   2.450119421e-07   2.1e-09  1.83  \n",
      "36  2.3e-07  1.3e-09  2.5e-12  1.00e+00   3.392958580e-08   1.058956256e-07   1.0e-09  1.95  \n",
      "37  8.7e-08  4.9e-10  5.5e-13  1.01e+00   1.608271802e-08   4.273536267e-08   3.8e-10  2.02  \n",
      "38  3.7e-08  2.1e-10  1.5e-13  1.00e+00   3.632208375e-09   1.487213432e-08   1.6e-10  2.06  \n",
      "39  1.5e-08  8.3e-11  3.7e-14  1.00e+00   2.295193398e-09   6.797562047e-09   6.4e-11  2.11  \n",
      "Optimizer terminated. Time: 2.14    \n",
      "\n",
      "\n",
      "Interior-point solution summary\n",
      "  Problem status  : PRIMAL_AND_DUAL_FEASIBLE\n",
      "  Solution status : OPTIMAL\n",
      "  Primal.  obj: 2.2951933980e-09    nrm: 1e+00    Viol.  con: 4e-09    var: 1e-09    cones: 0e+00  \n",
      "  Dual.    obj: 6.7975620471e-09    nrm: 4e+03    Viol.  con: 0e+00    var: 6e-11    cones: 0e+00  \n"
     ]
    },
    {
     "data": {
      "text/plain": [
       "('solved', 2.2951933979500848e-09)"
      ]
     },
     "execution_count": 16,
     "metadata": {},
     "output_type": "execute_result"
    }
   ],
   "source": [
    "X = so.infer_domain(f, bounds, [])\n",
    "prob = so.sig_constrained_relaxation(f, gts, eqs, X)\n",
    "prob.solve(verbose=True)"
   ]
  },
  {
   "cell_type": "code",
   "execution_count": null,
   "id": "d4efd876",
   "metadata": {},
   "outputs": [],
   "source": [
    "print(prob.value)"
   ]
  },
  {
   "cell_type": "code",
   "execution_count": 75,
   "id": "60c70f57",
   "metadata": {},
   "outputs": [],
   "source": [
    "solrec = so.sig_solrec(prob)"
   ]
  },
  {
   "cell_type": "code",
   "execution_count": 74,
   "id": "c7aa4abd",
   "metadata": {},
   "outputs": [
    {
     "data": {
      "text/plain": [
       "[]"
      ]
     },
     "execution_count": 74,
     "metadata": {},
     "output_type": "execute_result"
    }
   ],
   "source": [
    "solrec"
   ]
  },
  {
   "cell_type": "code",
   "execution_count": null,
   "id": "a7eef8b5",
   "metadata": {},
   "outputs": [],
   "source": []
  },
  {
   "cell_type": "code",
   "execution_count": null,
   "id": "ff1e196a",
   "metadata": {},
   "outputs": [],
   "source": []
  },
  {
   "cell_type": "code",
   "execution_count": null,
   "id": "277b575e",
   "metadata": {},
   "outputs": [],
   "source": [
    "prob_rel = so.sig_constrained_relaxation(f, gts, eqs, X, ell=1)"
   ]
  },
  {
   "cell_type": "code",
   "execution_count": 18,
   "id": "17e47db9",
   "metadata": {},
   "outputs": [
    {
     "name": "stdout",
     "output_type": "stream",
     "text": [
      "\n",
      "\n",
      "Problem\n",
      "  Name                   :                 \n",
      "  Objective sense        : max             \n",
      "  Type                   : CONIC (conic optimization problem)\n",
      "  Constraints            : 51809           \n",
      "  Cones                  : 19391806        \n",
      "  Scalar variables       : 58180145        \n",
      "  Matrix variables       : 0               \n",
      "  Integer variables      : 0               \n",
      "\n",
      "Optimizer started.\n",
      "Presolve started.\n",
      "Linear dependency checker started.\n",
      "Linear dependency checker terminated.\n",
      "Eliminator started.\n",
      "Freed constraints in eliminator : 0\n",
      "Eliminator terminated.\n",
      "Eliminator - tries                  : 1                 time                   : 0.00            \n",
      "Lin. dep.  - tries                  : 1                 time                   : 1.44            \n",
      "Lin. dep.  - number                 : 0               \n",
      "Presolve terminated. Time: 32.94   \n",
      "MOSEK error 1051: Out of space.\n",
      "Optimizer terminated. Time: 57.92   \n",
      "\n"
     ]
    },
    {
     "ename": "Error",
     "evalue": "rescode.err_space(1051): Out of space.",
     "output_type": "error",
     "traceback": [
      "\u001b[1;31m---------------------------------------------------------------------------\u001b[0m",
      "\u001b[1;31mError\u001b[0m                                     Traceback (most recent call last)",
      "\u001b[1;32m~\\AppData\\Local\\Temp/ipykernel_10480/18796306.py\u001b[0m in \u001b[0;36m<module>\u001b[1;34m\u001b[0m\n\u001b[1;32m----> 1\u001b[1;33m \u001b[0mprob_rel\u001b[0m\u001b[1;33m.\u001b[0m\u001b[0msolve\u001b[0m\u001b[1;33m(\u001b[0m\u001b[0mverbose\u001b[0m\u001b[1;33m=\u001b[0m\u001b[1;32mTrue\u001b[0m\u001b[1;33m)\u001b[0m\u001b[1;33m\u001b[0m\u001b[1;33m\u001b[0m\u001b[0m\n\u001b[0m",
      "\u001b[1;32m~\\anaconda3\\envs\\sage\\lib\\site-packages\\sageopt\\coniclifts\\problems\\problem.py\u001b[0m in \u001b[0;36msolve\u001b[1;34m(self, solver, **kwargs)\u001b[0m\n\u001b[0;32m    254\u001b[0m         \u001b[1;31m# Solve the problem\u001b[0m\u001b[1;33m\u001b[0m\u001b[1;33m\u001b[0m\u001b[1;33m\u001b[0m\u001b[0m\n\u001b[0;32m    255\u001b[0m         \u001b[0mt1\u001b[0m \u001b[1;33m=\u001b[0m \u001b[0mtime\u001b[0m\u001b[1;33m.\u001b[0m\u001b[0mtime\u001b[0m\u001b[1;33m(\u001b[0m\u001b[1;33m)\u001b[0m\u001b[1;33m\u001b[0m\u001b[1;33m\u001b[0m\u001b[0m\n\u001b[1;32m--> 256\u001b[1;33m         \u001b[0mraw_result\u001b[0m \u001b[1;33m=\u001b[0m \u001b[0msolver_object\u001b[0m\u001b[1;33m.\u001b[0m\u001b[0msolve_via_data\u001b[0m\u001b[1;33m(\u001b[0m\u001b[0mdata\u001b[0m\u001b[1;33m,\u001b[0m \u001b[0moptions\u001b[0m\u001b[1;33m)\u001b[0m\u001b[1;33m\u001b[0m\u001b[1;33m\u001b[0m\u001b[0m\n\u001b[0m\u001b[0;32m    257\u001b[0m         \u001b[0mself\u001b[0m\u001b[1;33m.\u001b[0m\u001b[0mtimings\u001b[0m\u001b[1;33m[\u001b[0m\u001b[0msolver\u001b[0m\u001b[1;33m]\u001b[0m\u001b[1;33m[\u001b[0m\u001b[1;34m'solve_via_data'\u001b[0m\u001b[1;33m]\u001b[0m \u001b[1;33m=\u001b[0m \u001b[0mtime\u001b[0m\u001b[1;33m.\u001b[0m\u001b[0mtime\u001b[0m\u001b[1;33m(\u001b[0m\u001b[1;33m)\u001b[0m \u001b[1;33m-\u001b[0m \u001b[0mt1\u001b[0m\u001b[1;33m\u001b[0m\u001b[1;33m\u001b[0m\u001b[0m\n\u001b[0;32m    258\u001b[0m         \u001b[1;32mif\u001b[0m \u001b[0moptions\u001b[0m\u001b[1;33m[\u001b[0m\u001b[1;34m'cache_raw_output'\u001b[0m\u001b[1;33m]\u001b[0m\u001b[1;33m:\u001b[0m\u001b[1;33m\u001b[0m\u001b[1;33m\u001b[0m\u001b[0m\n",
      "\u001b[1;32m~\\anaconda3\\envs\\sage\\lib\\site-packages\\sageopt\\coniclifts\\problems\\solvers\\mosek.py\u001b[0m in \u001b[0;36msolve_via_data\u001b[1;34m(data, params)\u001b[0m\n\u001b[0;32m     78\u001b[0m             \u001b[0msolver_output\u001b[0m \u001b[1;33m=\u001b[0m \u001b[0mMosek\u001b[0m\u001b[1;33m.\u001b[0m\u001b[0m_primal_solve_via_data\u001b[0m\u001b[1;33m(\u001b[0m\u001b[0mdata\u001b[0m\u001b[1;33m,\u001b[0m \u001b[0mparams\u001b[0m\u001b[1;33m)\u001b[0m\u001b[1;33m\u001b[0m\u001b[1;33m\u001b[0m\u001b[0m\n\u001b[0;32m     79\u001b[0m         \u001b[1;32melse\u001b[0m\u001b[1;33m:\u001b[0m\u001b[1;33m\u001b[0m\u001b[1;33m\u001b[0m\u001b[0m\n\u001b[1;32m---> 80\u001b[1;33m             \u001b[0msolver_output\u001b[0m \u001b[1;33m=\u001b[0m \u001b[0mMosek\u001b[0m\u001b[1;33m.\u001b[0m\u001b[0m_dual_solve_via_data\u001b[0m\u001b[1;33m(\u001b[0m\u001b[0mdata\u001b[0m\u001b[1;33m,\u001b[0m \u001b[0mparams\u001b[0m\u001b[1;33m)\u001b[0m\u001b[1;33m\u001b[0m\u001b[1;33m\u001b[0m\u001b[0m\n\u001b[0m\u001b[0;32m     81\u001b[0m         \u001b[1;32mreturn\u001b[0m \u001b[0msolver_output\u001b[0m\u001b[1;33m\u001b[0m\u001b[1;33m\u001b[0m\u001b[0m\n\u001b[0;32m     82\u001b[0m \u001b[1;33m\u001b[0m\u001b[0m\n",
      "\u001b[1;32m~\\anaconda3\\envs\\sage\\lib\\site-packages\\sageopt\\coniclifts\\problems\\solvers\\mosek.py\u001b[0m in \u001b[0;36m_dual_solve_via_data\u001b[1;34m(data, params)\u001b[0m\n\u001b[0;32m    278\u001b[0m                 \u001b[0midx\u001b[0m \u001b[1;33m+=\u001b[0m \u001b[1;36m3\u001b[0m\u001b[1;33m\u001b[0m\u001b[1;33m\u001b[0m\u001b[0m\n\u001b[0;32m    279\u001b[0m         \u001b[1;31m# Optimize the Mosek Task and return the result.\u001b[0m\u001b[1;33m\u001b[0m\u001b[1;33m\u001b[0m\u001b[1;33m\u001b[0m\u001b[0m\n\u001b[1;32m--> 280\u001b[1;33m         \u001b[0mtask\u001b[0m\u001b[1;33m.\u001b[0m\u001b[0moptimize\u001b[0m\u001b[1;33m(\u001b[0m\u001b[1;33m)\u001b[0m\u001b[1;33m\u001b[0m\u001b[1;33m\u001b[0m\u001b[0m\n\u001b[0m\u001b[0;32m    281\u001b[0m         \u001b[1;32mif\u001b[0m \u001b[0mparams\u001b[0m\u001b[1;33m[\u001b[0m\u001b[1;34m'verbose'\u001b[0m\u001b[1;33m]\u001b[0m\u001b[1;33m:\u001b[0m\u001b[1;33m\u001b[0m\u001b[1;33m\u001b[0m\u001b[0m\n\u001b[0;32m    282\u001b[0m             \u001b[0mtask\u001b[0m\u001b[1;33m.\u001b[0m\u001b[0msolutionsummary\u001b[0m\u001b[1;33m(\u001b[0m\u001b[0mmosek\u001b[0m\u001b[1;33m.\u001b[0m\u001b[0mstreamtype\u001b[0m\u001b[1;33m.\u001b[0m\u001b[0mmsg\u001b[0m\u001b[1;33m)\u001b[0m\u001b[1;33m\u001b[0m\u001b[1;33m\u001b[0m\u001b[0m\n",
      "\u001b[1;32m~\\anaconda3\\envs\\sage\\lib\\site-packages\\mosek\\__init__.py\u001b[0m in \u001b[0;36moptimize\u001b[1;34m(self)\u001b[0m\n\u001b[0;32m   7625\u001b[0m       \u001b[1;32mif\u001b[0m \u001b[0mres\u001b[0m \u001b[1;33m!=\u001b[0m \u001b[1;36m0\u001b[0m\u001b[1;33m:\u001b[0m\u001b[1;33m\u001b[0m\u001b[1;33m\u001b[0m\u001b[0m\n\u001b[0;32m   7626\u001b[0m         \u001b[0mresult\u001b[0m\u001b[1;33m,\u001b[0m\u001b[0mmsg\u001b[0m \u001b[1;33m=\u001b[0m \u001b[0mself\u001b[0m\u001b[1;33m.\u001b[0m\u001b[0m__getlasterror\u001b[0m\u001b[1;33m(\u001b[0m\u001b[0mres\u001b[0m\u001b[1;33m)\u001b[0m\u001b[1;33m\u001b[0m\u001b[1;33m\u001b[0m\u001b[0m\n\u001b[1;32m-> 7627\u001b[1;33m         \u001b[1;32mraise\u001b[0m \u001b[0mError\u001b[0m\u001b[1;33m(\u001b[0m\u001b[0mrescode\u001b[0m\u001b[1;33m(\u001b[0m\u001b[0mres\u001b[0m\u001b[1;33m)\u001b[0m\u001b[1;33m,\u001b[0m\u001b[0mmsg\u001b[0m\u001b[1;33m)\u001b[0m\u001b[1;33m\u001b[0m\u001b[1;33m\u001b[0m\u001b[0m\n\u001b[0m\u001b[0;32m   7628\u001b[0m       \u001b[0m__arg1_trmcode_return_value\u001b[0m \u001b[1;33m=\u001b[0m \u001b[0mresargs\u001b[0m\u001b[1;33m\u001b[0m\u001b[1;33m\u001b[0m\u001b[0m\n\u001b[0;32m   7629\u001b[0m       \u001b[0m__arg1_trmcode_return_value\u001b[0m \u001b[1;33m=\u001b[0m \u001b[0mrescode\u001b[0m\u001b[1;33m(\u001b[0m\u001b[0m__arg1_trmcode_return_value\u001b[0m\u001b[1;33m)\u001b[0m\u001b[1;33m\u001b[0m\u001b[1;33m\u001b[0m\u001b[0m\n",
      "\u001b[1;31mError\u001b[0m: rescode.err_space(1051): Out of space."
     ]
    }
   ],
   "source": [
    "prob_rel.solve(verbose=True)"
   ]
  },
  {
   "cell_type": "code",
   "execution_count": null,
   "id": "a6eafec4",
   "metadata": {},
   "outputs": [],
   "source": []
  },
  {
   "cell_type": "code",
   "execution_count": null,
   "id": "b7aad2c2",
   "metadata": {},
   "outputs": [],
   "source": []
  }
 ],
 "metadata": {
  "kernelspec": {
   "display_name": "Python 3 (ipykernel)",
   "language": "python",
   "name": "python3"
  },
  "language_info": {
   "codemirror_mode": {
    "name": "ipython",
    "version": 3
   },
   "file_extension": ".py",
   "mimetype": "text/x-python",
   "name": "python",
   "nbconvert_exporter": "python",
   "pygments_lexer": "ipython3",
   "version": "3.8.12"
  }
 },
 "nbformat": 4,
 "nbformat_minor": 5
}
